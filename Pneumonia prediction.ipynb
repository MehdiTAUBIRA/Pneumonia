{
 "cells": [
  {
   "cell_type": "code",
   "execution_count": 121,
   "id": "101cdfa3",
   "metadata": {},
   "outputs": [],
   "source": [
    "import numpy             as np\n",
    "import pandas            as pd\n",
    "import matplotlib.pyplot as plt\n",
    "import tensorflow.keras  as keras\n",
    "import seaborn           as sns\n",
    "import os\n",
    "\n",
    "from tqdm                          import tqdm\n",
    "from keras.preprocessing.image     import ImageDataGenerator\n",
    "from sklearn.preprocessing         import label_binarize\n",
    "from sklearn.metrics               import confusion_matrix\n",
    "from sklearn.model_selection       import train_test_split\n",
    "from keras.models                  import Sequential\n",
    "from keras.layers                  import Conv2D, Dense, MaxPool2D, Dropout, Flatten\n",
    "from keras.optimizers              import Adam"
   ]
  },
  {
   "cell_type": "code",
   "execution_count": 122,
   "id": "66a4b5e8",
   "metadata": {},
   "outputs": [],
   "source": [
    "model = Sequential()"
   ]
  },
  {
   "cell_type": "code",
   "execution_count": 123,
   "id": "4a6ea0eb",
   "metadata": {},
   "outputs": [],
   "source": [
    "model.add(Conv2D(filters = 32, kernel_size = 3, strides = 1, input_shape= (150, 150, 3), activation = \"relu\"))"
   ]
  },
  {
   "cell_type": "code",
   "execution_count": 124,
   "id": "15ec07e6",
   "metadata": {},
   "outputs": [],
   "source": [
    "model.add(MaxPool2D(pool_size = (2, 2)))"
   ]
  },
  {
   "cell_type": "code",
   "execution_count": 125,
   "id": "94f7ba70",
   "metadata": {},
   "outputs": [],
   "source": [
    "model.add(Conv2D(filters = 64, kernel_size = 3, strides = 1, activation = \"relu\"))"
   ]
  },
  {
   "cell_type": "code",
   "execution_count": 126,
   "id": "3039e105",
   "metadata": {},
   "outputs": [],
   "source": [
    "model.add(MaxPool2D(pool_size = (2, 2)))"
   ]
  },
  {
   "cell_type": "code",
   "execution_count": 127,
   "id": "0c75aae3",
   "metadata": {},
   "outputs": [],
   "source": [
    "model.add(Conv2D(filters = 64, kernel_size = 3, strides = 1, activation = \"relu\"))"
   ]
  },
  {
   "cell_type": "code",
   "execution_count": 128,
   "id": "dee9eac8",
   "metadata": {},
   "outputs": [],
   "source": [
    "model.add(MaxPool2D(pool_size = (2, 2)))"
   ]
  },
  {
   "cell_type": "code",
   "execution_count": 129,
   "id": "cabca896",
   "metadata": {},
   "outputs": [],
   "source": [
    "model.add(Conv2D(filters = 128, kernel_size = 3, strides = 1, activation = \"relu\"))"
   ]
  },
  {
   "cell_type": "code",
   "execution_count": 130,
   "id": "5c65ce1e",
   "metadata": {},
   "outputs": [],
   "source": [
    "model.add(MaxPool2D(pool_size = (2, 2)))"
   ]
  },
  {
   "cell_type": "code",
   "execution_count": 131,
   "id": "4cd70115",
   "metadata": {},
   "outputs": [],
   "source": [
    "model.add(Conv2D(filters = 256, kernel_size = 3, strides = 1, activation = \"relu\"))"
   ]
  },
  {
   "cell_type": "code",
   "execution_count": 132,
   "id": "bde89353",
   "metadata": {},
   "outputs": [],
   "source": [
    "model.add(MaxPool2D(pool_size = (2, 2)))"
   ]
  },
  {
   "cell_type": "code",
   "execution_count": 133,
   "id": "477118c2",
   "metadata": {},
   "outputs": [],
   "source": [
    "model.add(Flatten())"
   ]
  },
  {
   "cell_type": "code",
   "execution_count": 134,
   "id": "694be578",
   "metadata": {},
   "outputs": [],
   "source": [
    "model.add(Dense(units = 128, activation = \"relu\"))"
   ]
  },
  {
   "cell_type": "code",
   "execution_count": 135,
   "id": "acbaae36",
   "metadata": {},
   "outputs": [],
   "source": [
    "model.add(Dense(units = 128, activation = \"relu\"))"
   ]
  },
  {
   "cell_type": "code",
   "execution_count": 136,
   "id": "a77521be",
   "metadata": {},
   "outputs": [],
   "source": [
    "model.add(Dense(units = 128, activation = \"relu\"))"
   ]
  },
  {
   "cell_type": "code",
   "execution_count": 137,
   "id": "f662fbbf",
   "metadata": {},
   "outputs": [],
   "source": [
    "model.add(Dropout(0.3))"
   ]
  },
  {
   "cell_type": "code",
   "execution_count": 142,
   "id": "419d7e6a",
   "metadata": {},
   "outputs": [],
   "source": [
    "model.add(Dense(units = 1, activation = \"sigmoid\"))"
   ]
  },
  {
   "cell_type": "code",
   "execution_count": 143,
   "id": "7e5489af",
   "metadata": {},
   "outputs": [],
   "source": [
    "model.compile(optimizer = \"Adam\", loss = \"binary_crossentropy\", metrics = [\"accuracy\"])"
   ]
  },
  {
   "cell_type": "code",
   "execution_count": 144,
   "id": "3419574e",
   "metadata": {},
   "outputs": [],
   "source": [
    "train_datagen = ImageDataGenerator(rescale = 1./255, shear_range = 0.2, zoom_range = 0.2, horizontal_flip = True)"
   ]
  },
  {
   "cell_type": "code",
   "execution_count": 145,
   "id": "75ab1351",
   "metadata": {},
   "outputs": [],
   "source": [
    "test_datagen = ImageDataGenerator(rescale = 1./255)"
   ]
  },
  {
   "cell_type": "code",
   "execution_count": 146,
   "id": "eed65695",
   "metadata": {},
   "outputs": [
    {
     "name": "stdout",
     "output_type": "stream",
     "text": [
      "Found 5216 images belonging to 2 classes.\n"
     ]
    }
   ],
   "source": [
    "training_set = train_datagen.flow_from_directory('/Users/mehdi/Downloads/chest_xray/train', target_size=(150, 150), batch_size=32, class_mode='binary')"
   ]
  },
  {
   "cell_type": "code",
   "execution_count": 147,
   "id": "457e5672",
   "metadata": {},
   "outputs": [
    {
     "name": "stdout",
     "output_type": "stream",
     "text": [
      "Found 624 images belonging to 2 classes.\n"
     ]
    }
   ],
   "source": [
    "test_set = test_datagen.flow_from_directory('/Users/mehdi/Downloads/chest_xray/test', target_size=(150, 150), batch_size=32, class_mode='binary')"
   ]
  },
  {
   "cell_type": "code",
   "execution_count": 148,
   "id": "5e5adb6f",
   "metadata": {
    "scrolled": true
   },
   "outputs": [
    {
     "name": "stderr",
     "output_type": "stream",
     "text": [
      "/var/folders/vq/2jh0178d4xd_d_tfhk0lt_mh0000gn/T/ipykernel_77445/624441091.py:1: UserWarning: `Model.fit_generator` is deprecated and will be removed in a future version. Please use `Model.fit`, which supports generators.\n",
      "  model.fit_generator(training_set, steps_per_epoch=130, epochs=30, validation_data=test_set, validation_steps=63)\n"
     ]
    },
    {
     "name": "stdout",
     "output_type": "stream",
     "text": [
      "Epoch 1/30\n",
      "130/130 [==============================] - ETA: 0s - loss: 0.5747 - accuracy: 0.7433WARNING:tensorflow:Your input ran out of data; interrupting training. Make sure that your dataset or generator can generate at least `steps_per_epoch * epochs` batches (in this case, 63 batches). You may need to use the repeat() function when building your dataset.\n",
      "130/130 [==============================] - 89s 676ms/step - loss: 0.5747 - accuracy: 0.7433 - val_loss: 0.6801 - val_accuracy: 0.6250\n",
      "Epoch 2/30\n",
      "130/130 [==============================] - 82s 629ms/step - loss: 0.5649 - accuracy: 0.7493\n",
      "Epoch 3/30\n",
      "130/130 [==============================] - 83s 639ms/step - loss: 0.5669 - accuracy: 0.7462\n",
      "Epoch 4/30\n",
      "130/130 [==============================] - 81s 625ms/step - loss: 0.5687 - accuracy: 0.7442\n",
      "Epoch 5/30\n",
      "130/130 [==============================] - 82s 628ms/step - loss: 0.5740 - accuracy: 0.7392\n",
      "Epoch 6/30\n",
      "130/130 [==============================] - 81s 623ms/step - loss: 0.5684 - accuracy: 0.7445\n",
      "Epoch 7/30\n",
      "130/130 [==============================] - 82s 629ms/step - loss: 0.5658 - accuracy: 0.7469\n",
      "Epoch 8/30\n",
      "130/130 [==============================] - 81s 620ms/step - loss: 0.5715 - accuracy: 0.7416\n",
      "Epoch 9/30\n",
      "130/130 [==============================] - 81s 622ms/step - loss: 0.5694 - accuracy: 0.7435\n",
      "Epoch 10/30\n",
      "130/130 [==============================] - 80s 611ms/step - loss: 0.5737 - accuracy: 0.7394\n",
      "Epoch 11/30\n",
      "130/130 [==============================] - 79s 610ms/step - loss: 0.5750 - accuracy: 0.7382\n",
      "Epoch 12/30\n",
      "130/130 [==============================] - 80s 615ms/step - loss: 0.5689 - accuracy: 0.7440\n",
      "Epoch 13/30\n",
      "130/130 [==============================] - 80s 611ms/step - loss: 0.5684 - accuracy: 0.7445\n",
      "Epoch 14/30\n",
      "130/130 [==============================] - 78s 595ms/step - loss: 0.5710 - accuracy: 0.7421\n",
      "Epoch 15/30\n",
      "130/130 [==============================] - 77s 590ms/step - loss: 0.5695 - accuracy: 0.7435\n",
      "Epoch 16/30\n",
      "130/130 [==============================] - 77s 589ms/step - loss: 0.5604 - accuracy: 0.7519\n",
      "Epoch 17/30\n",
      "130/130 [==============================] - 76s 587ms/step - loss: 0.5661 - accuracy: 0.7466\n",
      "Epoch 18/30\n",
      "130/130 [==============================] - 77s 590ms/step - loss: 0.5741 - accuracy: 0.7392\n",
      "Epoch 19/30\n",
      "130/130 [==============================] - 77s 593ms/step - loss: 0.5747 - accuracy: 0.7385\n",
      "Epoch 20/30\n",
      "130/130 [==============================] - 78s 596ms/step - loss: 0.5717 - accuracy: 0.7413\n",
      "Epoch 21/30\n",
      "130/130 [==============================] - 77s 595ms/step - loss: 0.5699 - accuracy: 0.7430\n",
      "Epoch 22/30\n",
      "130/130 [==============================] - 79s 606ms/step - loss: 0.5722 - accuracy: 0.7409\n",
      "Epoch 23/30\n",
      "130/130 [==============================] - 78s 603ms/step - loss: 0.5712 - accuracy: 0.7418\n",
      "Epoch 24/30\n",
      "130/130 [==============================] - 79s 604ms/step - loss: 0.5684 - accuracy: 0.7445\n",
      "Epoch 25/30\n",
      "130/130 [==============================] - 79s 607ms/step - loss: 0.5687 - accuracy: 0.7442\n",
      "Epoch 26/30\n",
      "130/130 [==============================] - 79s 607ms/step - loss: 0.5715 - accuracy: 0.7416\n",
      "Epoch 27/30\n",
      "130/130 [==============================] - 80s 612ms/step - loss: 0.5664 - accuracy: 0.7464\n",
      "Epoch 28/30\n",
      "130/130 [==============================] - 80s 611ms/step - loss: 0.5650 - accuracy: 0.7476\n",
      "Epoch 29/30\n",
      "130/130 [==============================] - 79s 609ms/step - loss: 0.5663 - accuracy: 0.7464\n",
      "Epoch 30/30\n",
      "130/130 [==============================] - 80s 613ms/step - loss: 0.5723 - accuracy: 0.7409\n"
     ]
    },
    {
     "data": {
      "text/plain": [
       "<keras.callbacks.History at 0x7f9499fba8e0>"
      ]
     },
     "execution_count": 148,
     "metadata": {},
     "output_type": "execute_result"
    }
   ],
   "source": [
    "model.fit_generator(training_set, steps_per_epoch=130, epochs=30, validation_data=test_set, validation_steps=63)"
   ]
  },
  {
   "cell_type": "code",
   "execution_count": 149,
   "id": "9c3e5700",
   "metadata": {},
   "outputs": [
    {
     "name": "stdout",
     "output_type": "stream",
     "text": [
      "Model: \"sequential_5\"\n",
      "_________________________________________________________________\n",
      " Layer (type)                Output Shape              Param #   \n",
      "=================================================================\n",
      " conv2d_21 (Conv2D)          (None, 148, 148, 32)      896       \n",
      "                                                                 \n",
      " max_pooling2d_20 (MaxPoolin  (None, 74, 74, 32)       0         \n",
      " g2D)                                                            \n",
      "                                                                 \n",
      " conv2d_22 (Conv2D)          (None, 72, 72, 64)        18496     \n",
      "                                                                 \n",
      " max_pooling2d_21 (MaxPoolin  (None, 36, 36, 64)       0         \n",
      " g2D)                                                            \n",
      "                                                                 \n",
      " conv2d_23 (Conv2D)          (None, 34, 34, 64)        36928     \n",
      "                                                                 \n",
      " max_pooling2d_22 (MaxPoolin  (None, 17, 17, 64)       0         \n",
      " g2D)                                                            \n",
      "                                                                 \n",
      " conv2d_24 (Conv2D)          (None, 15, 15, 128)       73856     \n",
      "                                                                 \n",
      " max_pooling2d_23 (MaxPoolin  (None, 7, 7, 128)        0         \n",
      " g2D)                                                            \n",
      "                                                                 \n",
      " conv2d_25 (Conv2D)          (None, 5, 5, 256)         295168    \n",
      "                                                                 \n",
      " max_pooling2d_24 (MaxPoolin  (None, 2, 2, 256)        0         \n",
      " g2D)                                                            \n",
      "                                                                 \n",
      " flatten_3 (Flatten)         (None, 1024)              0         \n",
      "                                                                 \n",
      " dense_13 (Dense)            (None, 128)               131200    \n",
      "                                                                 \n",
      " dense_14 (Dense)            (None, 128)               16512     \n",
      "                                                                 \n",
      " dense_15 (Dense)            (None, 128)               16512     \n",
      "                                                                 \n",
      " dropout_3 (Dropout)         (None, 128)               0         \n",
      "                                                                 \n",
      " dense_16 (Dense)            (None, 1)                 129       \n",
      "                                                                 \n",
      " dense_17 (Dense)            (None, 1)                 2         \n",
      "                                                                 \n",
      "=================================================================\n",
      "Total params: 589,699\n",
      "Trainable params: 589,699\n",
      "Non-trainable params: 0\n",
      "_________________________________________________________________\n"
     ]
    }
   ],
   "source": [
    "model.summary()"
   ]
  },
  {
   "cell_type": "code",
   "execution_count": 150,
   "id": "ca7d73e0",
   "metadata": {},
   "outputs": [
    {
     "data": {
      "image/png": "[encoded data removed]",
      "text/plain": [
       "<IPython.core.display.Image object>"
      ]
     },
     "execution_count": 150,
     "metadata": {},
     "output_type": "execute_result"
    }
   ],
   "source": [
    "from keras.utils.vis_utils import plot_model\n",
    "plot_model(model)"
   ]
  },
  {
   "cell_type": "code",
   "execution_count": 69,
   "id": "46ca26ad",
   "metadata": {},
   "outputs": [],
   "source": [
    "model.save(\"Pneumonia_Prediction.h5\")"
   ]
  },
  {
   "cell_type": "code",
   "execution_count": 70,
   "id": "98f3ef99",
   "metadata": {},
   "outputs": [
    {
     "data": {
      "text/plain": [
       "{'NORMAL': 0, 'PNEUMONIA': 1}"
      ]
     },
     "execution_count": 70,
     "metadata": {},
     "output_type": "execute_result"
    }
   ],
   "source": [
    "training_set.class_indices"
   ]
  },
  {
   "cell_type": "code",
   "execution_count": 71,
   "id": "d734e232",
   "metadata": {},
   "outputs": [],
   "source": [
    "test_image = keras.utils.load_img(\"/Users/mehdi/Downloads/chest_xray/chest_xray/val/PNEUMONIA/person1954_bacteria_4886.jpeg\", target_size=(150,150))"
   ]
  },
  {
   "cell_type": "code",
   "execution_count": 74,
   "id": "af4fbb26",
   "metadata": {},
   "outputs": [
    {
     "ename": "ValueError",
     "evalue": "Failed to find data adapter that can handle input: <class 'PIL.Image.Image'>, <class 'NoneType'>",
     "output_type": "error",
     "traceback": [
      "\u001b[0;31m---------------------------------------------------------------------------\u001b[0m",
      "\u001b[0;31mValueError\u001b[0m                                Traceback (most recent call last)",
      "\u001b[0;32m/var/folders/vq/2jh0178d4xd_d_tfhk0lt_mh0000gn/T/ipykernel_77445/1577609181.py\u001b[0m in \u001b[0;36m<module>\u001b[0;34m\u001b[0m\n\u001b[0;32m----> 1\u001b[0;31m \u001b[0mresult\u001b[0m \u001b[0;34m=\u001b[0m \u001b[0mmodel\u001b[0m\u001b[0;34m.\u001b[0m\u001b[0mpredict\u001b[0m\u001b[0;34m(\u001b[0m\u001b[0mtest_image\u001b[0m\u001b[0;34m)\u001b[0m\u001b[0;34m\u001b[0m\u001b[0;34m\u001b[0m\u001b[0m\n\u001b[0m\u001b[1;32m      2\u001b[0m \u001b[0mresult\u001b[0m \u001b[0;34m=\u001b[0m \u001b[0mnp\u001b[0m\u001b[0;34m.\u001b[0m\u001b[0msqueeze\u001b[0m\u001b[0;34m(\u001b[0m\u001b[0mresult\u001b[0m\u001b[0;34m)\u001b[0m\u001b[0;34m\u001b[0m\u001b[0;34m\u001b[0m\u001b[0m\n",
      "\u001b[0;32m~/opt/anaconda3/lib/python3.9/site-packages/keras/utils/traceback_utils.py\u001b[0m in \u001b[0;36merror_handler\u001b[0;34m(*args, **kwargs)\u001b[0m\n\u001b[1;32m     65\u001b[0m     \u001b[0;32mexcept\u001b[0m \u001b[0mException\u001b[0m \u001b[0;32mas\u001b[0m \u001b[0me\u001b[0m\u001b[0;34m:\u001b[0m  \u001b[0;31m# pylint: disable=broad-except\u001b[0m\u001b[0;34m\u001b[0m\u001b[0;34m\u001b[0m\u001b[0m\n\u001b[1;32m     66\u001b[0m       \u001b[0mfiltered_tb\u001b[0m \u001b[0;34m=\u001b[0m \u001b[0m_process_traceback_frames\u001b[0m\u001b[0;34m(\u001b[0m\u001b[0me\u001b[0m\u001b[0;34m.\u001b[0m\u001b[0m__traceback__\u001b[0m\u001b[0;34m)\u001b[0m\u001b[0;34m\u001b[0m\u001b[0;34m\u001b[0m\u001b[0m\n\u001b[0;32m---> 67\u001b[0;31m       \u001b[0;32mraise\u001b[0m \u001b[0me\u001b[0m\u001b[0;34m.\u001b[0m\u001b[0mwith_traceback\u001b[0m\u001b[0;34m(\u001b[0m\u001b[0mfiltered_tb\u001b[0m\u001b[0;34m)\u001b[0m \u001b[0;32mfrom\u001b[0m \u001b[0;32mNone\u001b[0m\u001b[0;34m\u001b[0m\u001b[0;34m\u001b[0m\u001b[0m\n\u001b[0m\u001b[1;32m     68\u001b[0m     \u001b[0;32mfinally\u001b[0m\u001b[0;34m:\u001b[0m\u001b[0;34m\u001b[0m\u001b[0;34m\u001b[0m\u001b[0m\n\u001b[1;32m     69\u001b[0m       \u001b[0;32mdel\u001b[0m \u001b[0mfiltered_tb\u001b[0m\u001b[0;34m\u001b[0m\u001b[0;34m\u001b[0m\u001b[0m\n",
      "\u001b[0;32m~/opt/anaconda3/lib/python3.9/site-packages/keras/engine/data_adapter.py\u001b[0m in \u001b[0;36mselect_data_adapter\u001b[0;34m(x, y)\u001b[0m\n\u001b[1;32m    983\u001b[0m   \u001b[0;32mif\u001b[0m \u001b[0;32mnot\u001b[0m \u001b[0madapter_cls\u001b[0m\u001b[0;34m:\u001b[0m\u001b[0;34m\u001b[0m\u001b[0;34m\u001b[0m\u001b[0m\n\u001b[1;32m    984\u001b[0m     \u001b[0;31m# TODO(scottzhu): This should be a less implementation-specific error.\u001b[0m\u001b[0;34m\u001b[0m\u001b[0;34m\u001b[0m\u001b[0m\n\u001b[0;32m--> 985\u001b[0;31m     raise ValueError(\n\u001b[0m\u001b[1;32m    986\u001b[0m         \u001b[0;34m\"Failed to find data adapter that can handle \"\u001b[0m\u001b[0;34m\u001b[0m\u001b[0;34m\u001b[0m\u001b[0m\n\u001b[1;32m    987\u001b[0m         \"input: {}, {}\".format(\n",
      "\u001b[0;31mValueError\u001b[0m: Failed to find data adapter that can handle input: <class 'PIL.Image.Image'>, <class 'NoneType'>"
     ]
    }
   ],
   "source": [
    "result = model.predict(test_image)\n",
    "result = np.squeeze(result)"
   ]
  },
  {
   "cell_type": "code",
   "execution_count": 33,
   "id": "4bdf8132",
   "metadata": {},
   "outputs": [
    {
     "ename": "NameError",
     "evalue": "name 'result' is not defined",
     "output_type": "error",
     "traceback": [
      "\u001b[0;31m---------------------------------------------------------------------------\u001b[0m",
      "\u001b[0;31mNameError\u001b[0m                                 Traceback (most recent call last)",
      "\u001b[0;32m/var/folders/vq/2jh0178d4xd_d_tfhk0lt_mh0000gn/T/ipykernel_77445/2967856328.py\u001b[0m in \u001b[0;36m<module>\u001b[0;34m\u001b[0m\n\u001b[0;32m----> 1\u001b[0;31m \u001b[0;32mif\u001b[0m \u001b[0mresult\u001b[0m \u001b[0;34m[\u001b[0m\u001b[0;36m0\u001b[0m\u001b[0;34m]\u001b[0m\u001b[0;34m[\u001b[0m\u001b[0;36m0\u001b[0m\u001b[0;34m]\u001b[0m \u001b[0;34m==\u001b[0m \u001b[0;36m1\u001b[0m\u001b[0;34m:\u001b[0m\u001b[0;34m\u001b[0m\u001b[0;34m\u001b[0m\u001b[0m\n\u001b[0m\u001b[1;32m      2\u001b[0m     \u001b[0mprediction\u001b[0m \u001b[0;34m=\u001b[0m \u001b[0;34m\"Pneumonia\"\u001b[0m\u001b[0;34m\u001b[0m\u001b[0;34m\u001b[0m\u001b[0m\n\u001b[1;32m      3\u001b[0m \u001b[0;32melse\u001b[0m\u001b[0;34m:\u001b[0m\u001b[0;34m\u001b[0m\u001b[0;34m\u001b[0m\u001b[0m\n\u001b[1;32m      4\u001b[0m     \u001b[0mprediction\u001b[0m \u001b[0;34m=\u001b[0m \u001b[0;34m\"normal\"\u001b[0m\u001b[0;34m\u001b[0m\u001b[0;34m\u001b[0m\u001b[0m\n",
      "\u001b[0;31mNameError\u001b[0m: name 'result' is not defined"
     ]
    }
   ],
   "source": [
    "if result [0][0] == 1:\n",
    "    prediction = \"Pneumonia\"\n",
    "else: \n",
    "    prediction = \"normal\""
   ]
  },
  {
   "cell_type": "code",
   "execution_count": null,
   "id": "a36339f3",
   "metadata": {},
   "outputs": [],
   "source": []
  }
 ],
 "metadata": {
  "kernelspec": {
   "display_name": "Python 3 (ipykernel)",
   "language": "python",
   "name": "python3"
  },
  "language_info": {
   "codemirror_mode": {
    "name": "ipython",
    "version": 3
   },
   "file_extension": ".py",
   "mimetype": "text/x-python",
   "name": "python",
   "nbconvert_exporter": "python",
   "pygments_lexer": "ipython3",
   "version": "3.9.7"
  }
 },
 "nbformat": 4,
 "nbformat_minor": 5
}
